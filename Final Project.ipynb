{
 "cells": [
  {
   "cell_type": "markdown",
   "metadata": {},
   "source": [
    "# Project 2 霍夫曼編碼"
   ]
  },
  {
   "cell_type": "markdown",
   "metadata": {},
   "source": [
    "利用最小堆來實現 Huffman code 且將其應用於加密，具體如下"
   ]
  },
  {
   "cell_type": "markdown",
   "metadata": {},
   "source": [
    "0. 設定字母表，本項目要求 26 個字母，不區分大小寫，外加常用標點構成字母表；\n",
    "0. 選取一篇英文文章來計算字母表中字符出現的頻率；\n",
    "0. 利用字母表和相應的頻率來構建赫夫曼編碼；\n",
    "0. 用構建好的赫夫曼編碼加密一句話，比如 “Algorithm is fun!”;\n",
    "0. 再解碼由上面那句話得到的二進制序列；"
   ]
  },
  {
   "cell_type": "markdown",
   "metadata": {},
   "source": [
    "需要提交的文件，一份報告，以及可以運行的代碼。"
   ]
  },
  {
   "cell_type": "markdown",
   "metadata": {},
   "source": [
    "要求，報告至少要回答這些問題：字母表構成，你所採用的演算法用到哪些資料結構，為什麼使用這些資料結構。代碼形成的可執行文件只有三個參數，第一個參數表示現在要編碼或者解碼；第二個參數是一個 txt 檔的文件名，該文件包含選取的文章；第三個參數則是要編碼的一句話，或者是要解碼的二進制字符串。"
   ]
  },
  {
   "cell_type": "markdown",
   "metadata": {},
   "source": [
    "---"
   ]
  },
  {
   "cell_type": "markdown",
   "metadata": {},
   "source": [
    "# 霍夫曼編碼"
   ]
  },
  {
   "cell_type": "markdown",
   "metadata": {},
   "source": [
    "### 字母表"
   ]
  },
  {
   "cell_type": "code",
   "execution_count": 2,
   "metadata": {
    "collapsed": true
   },
   "outputs": [],
   "source": [
    "def bulildAlphaArray():\n",
    "    arrAlphabet = 'a b c d e f g h i j k l m n o p q r s t u v w x y z , . \" ! ? \\' ( )'.split( )\n",
    "    arrAlphabet.append(' ')\n",
    "    return arrAlphabet"
   ]
  },
  {
   "cell_type": "markdown",
   "metadata": {},
   "source": [
    "### 讀檔並統計字母頻率"
   ]
  },
  {
   "cell_type": "code",
   "execution_count": 3,
   "metadata": {
    "collapsed": true
   },
   "outputs": [],
   "source": [
    "def readArticle(path):\n",
    "    f = open(path,\"r\")\n",
    "    article=f.readlines()\n",
    "    f.close()\n",
    "    \n",
    "    arrAlphabet = bulildAlphaArray()\n",
    "    nodelist=[]\n",
    "    \n",
    "    for alphabet in arrAlphabet:\n",
    "        cnt=0;\n",
    "        for line in article:\n",
    "            for ch in line:\n",
    "                if ch.lower()==alphabet:\n",
    "                    cnt+=1\n",
    "        newNode = (cnt,alphabet,None,None)\n",
    "        nodelist.append(newNode)\n",
    "    return nodelist"
   ]
  },
  {
   "cell_type": "markdown",
   "metadata": {},
   "source": [
    "### 建霍夫曼樹"
   ]
  },
  {
   "cell_type": "code",
   "execution_count": 4,
   "metadata": {
    "collapsed": true
   },
   "outputs": [],
   "source": [
    "from heapq import heappush, heappop\n",
    "def buildHuffmanTree(nodelist):\n",
    "    heap = []\n",
    "    for item in nodelist:\n",
    "        heappush(heap, item)\n",
    "    while len(heap)>1:\n",
    "        firstNode = heappop(heap)\n",
    "        nextNode = heappop(heap)\n",
    "        newNode = (firstNode[0]+nextNode[0],'',firstNode,nextNode)\n",
    "        heappush(heap, newNode)\n",
    "    return heappop(heap)"
   ]
  },
  {
   "cell_type": "markdown",
   "metadata": {},
   "source": [
    "### 字母與編碼的對照表"
   ]
  },
  {
   "cell_type": "code",
   "execution_count": 5,
   "metadata": {
    "collapsed": true
   },
   "outputs": [],
   "source": [
    "dict = {}\n",
    "def buildHuffmanDict(tree, code):\n",
    "    if tree == None:\n",
    "        return\n",
    "    buildHuffmanDict(tree[2], code+'0')\n",
    "    buildHuffmanDict(tree[3], code+'1')\n",
    "    if tree[1]!='':\n",
    "        dict[tree[1]] = code\n",
    "    return dict"
   ]
  },
  {
   "cell_type": "markdown",
   "metadata": {},
   "source": [
    "### 編碼"
   ]
  },
  {
   "cell_type": "code",
   "execution_count": 6,
   "metadata": {
    "collapsed": true
   },
   "outputs": [],
   "source": [
    "def encode(string,table):\n",
    "    string = string.lower()\n",
    "    output=''\n",
    "    for ch in string:\n",
    "        output+=table[ch]\n",
    "    return output"
   ]
  },
  {
   "cell_type": "markdown",
   "metadata": {},
   "source": [
    "### 解碼"
   ]
  },
  {
   "cell_type": "code",
   "execution_count": 7,
   "metadata": {
    "collapsed": true
   },
   "outputs": [],
   "source": [
    "def decode(string,tree):\n",
    "    strIndex=0\n",
    "    root=tree\n",
    "    output=''\n",
    "    while strIndex<len(string):\n",
    "        if root[1]!='':\n",
    "            output+=root[1]\n",
    "            root=tree\n",
    "            \n",
    "        if string[strIndex]=='0':\n",
    "            root=root[2]\n",
    "        else:\n",
    "            root=root[3]\n",
    "        strIndex+=1\n",
    "    output+=root[1]\n",
    "    return output       "
   ]
  },
  {
   "cell_type": "markdown",
   "metadata": {},
   "source": [
    "---"
   ]
  },
  {
   "cell_type": "markdown",
   "metadata": {},
   "source": [
    "# Demo"
   ]
  },
  {
   "cell_type": "code",
   "execution_count": 8,
   "metadata": {
    "collapsed": true
   },
   "outputs": [],
   "source": [
    "def demo(mode,article,sentence):\n",
    "        frequency = readArticle(article)\n",
    "        huffmanTree = buildHuffmanTree(frequency)\n",
    "        if mode == 0:\n",
    "            table = buildHuffmanDict(huffmanTree,\"\")\n",
    "            return sentence+\" -> \"+encode(sentence,table)\n",
    "        elif mode == 1:\n",
    "            return sentence+\" -> \"+decode(sentence,huffmanTree)"
   ]
  },
  {
   "cell_type": "markdown",
   "metadata": {},
   "source": [
    "### 編碼"
   ]
  },
  {
   "cell_type": "code",
   "execution_count": 9,
   "metadata": {
    "collapsed": true
   },
   "outputs": [],
   "source": [
    "# Input\n",
    "\n",
    "# 編碼(0)或解碼(1)\n",
    "mode = 0\n",
    "\n",
    "#輸入文章\n",
    "article = 'HoffmannSource.txt'\n",
    "\n",
    "#輸入要編碼/解碼的字串\n",
    "sentence = 'algorithm is fun!'"
   ]
  },
  {
   "cell_type": "code",
   "execution_count": 10,
   "metadata": {},
   "outputs": [
    {
     "data": {
      "text/plain": [
       "'algorithm is fun! -> 101000011011101100111100001111111000000101001001111101010000111001011000100010010000000'"
      ]
     },
     "execution_count": 10,
     "metadata": {},
     "output_type": "execute_result"
    }
   ],
   "source": [
    "demo(mode,article,sentence)"
   ]
  },
  {
   "cell_type": "markdown",
   "metadata": {},
   "source": [
    "### 解碼"
   ]
  },
  {
   "cell_type": "code",
   "execution_count": 11,
   "metadata": {
    "collapsed": true
   },
   "outputs": [],
   "source": [
    "# Input\n",
    "\n",
    "# 編碼(0)或解碼(1)\n",
    "mode = 1\n",
    "\n",
    "#輸入文章\n",
    "article = 'HoffmannSource.txt'\n",
    "\n",
    "#輸入要編碼/解碼的字串\n",
    "sentence = '101000011011101100111100001111111000000101001001111101010000111001011000100010010000000'"
   ]
  },
  {
   "cell_type": "code",
   "execution_count": 12,
   "metadata": {},
   "outputs": [
    {
     "data": {
      "text/plain": [
       "'101000011011101100111100001111111000000101001001111101010000111001011000100010010000000 -> algorithm is fun!'"
      ]
     },
     "execution_count": 12,
     "metadata": {},
     "output_type": "execute_result"
    }
   ],
   "source": [
    "demo(mode,article,sentence)"
   ]
  },
  {
   "cell_type": "markdown",
   "metadata": {},
   "source": [
    "---"
   ]
  },
  {
   "cell_type": "markdown",
   "metadata": {},
   "source": [
    "## 附錄"
   ]
  },
  {
   "cell_type": "markdown",
   "metadata": {},
   "source": [
    "### 字母及次數統計"
   ]
  },
  {
   "cell_type": "code",
   "execution_count": 14,
   "metadata": {},
   "outputs": [
    {
     "data": {
      "text/plain": [
       "[(58, 'a', None, None),\n",
       " (7, 'b', None, None),\n",
       " (17, 'c', None, None),\n",
       " (30, 'd', None, None),\n",
       " (69, 'e', None, None),\n",
       " (19, 'f', None, None),\n",
       " (8, 'g', None, None),\n",
       " (26, 'h', None, None),\n",
       " (49, 'i', None, None),\n",
       " (2, 'j', None, None),\n",
       " (7, 'k', None, None),\n",
       " (37, 'l', None, None),\n",
       " (10, 'm', None, None),\n",
       " (34, 'n', None, None),\n",
       " (56, 'o', None, None),\n",
       " (10, 'p', None, None),\n",
       " (0, 'q', None, None),\n",
       " (35, 'r', None, None),\n",
       " (35, 's', None, None),\n",
       " (70, 't', None, None),\n",
       " (17, 'u', None, None),\n",
       " (5, 'v', None, None),\n",
       " (18, 'w', None, None),\n",
       " (9, 'x', None, None),\n",
       " (19, 'y', None, None),\n",
       " (0, 'z', None, None),\n",
       " (2, ',', None, None),\n",
       " (14, '.', None, None),\n",
       " (4, '\"', None, None),\n",
       " (0, '!', None, None),\n",
       " (0, '?', None, None),\n",
       " (2, \"'\", None, None),\n",
       " (0, '(', None, None),\n",
       " (0, ')', None, None),\n",
       " (171, ' ', None, None)]"
      ]
     },
     "execution_count": 14,
     "metadata": {},
     "output_type": "execute_result"
    }
   ],
   "source": [
    "article = 'HoffmannSource.txt'\n",
    "frequency = readArticle(article)\n",
    "frequency"
   ]
  },
  {
   "cell_type": "markdown",
   "metadata": {},
   "source": [
    "### 霍夫曼樹"
   ]
  },
  {
   "cell_type": "code",
   "execution_count": 16,
   "metadata": {},
   "outputs": [
    {
     "data": {
      "text/plain": [
       "(840,\n",
       " '',\n",
       " (333,\n",
       "  '',\n",
       "  (162,\n",
       "   '',\n",
       "   (74,\n",
       "    '',\n",
       "    (37, '', (18, 'w', None, None), (19, 'f', None, None)),\n",
       "    (37, 'l', None, None)),\n",
       "   (88,\n",
       "    '',\n",
       "    (39,\n",
       "     '',\n",
       "     (19, 'y', None, None),\n",
       "     (20, '', (10, 'm', None, None), (10, 'p', None, None))),\n",
       "    (49, 'i', None, None))),\n",
       "  (171, ' ', None, None)),\n",
       " (507,\n",
       "  '',\n",
       "  (229,\n",
       "   '',\n",
       "   (109,\n",
       "    '',\n",
       "    (53,\n",
       "     '',\n",
       "     (26, 'h', None, None),\n",
       "     (27,\n",
       "      '',\n",
       "      (13,\n",
       "       '',\n",
       "       (6,\n",
       "        '',\n",
       "        (2, 'j', None, None),\n",
       "        (4,\n",
       "         '',\n",
       "         (2,\n",
       "          '',\n",
       "          (0,\n",
       "           '',\n",
       "           (0,\n",
       "            '',\n",
       "            (0,\n",
       "             '',\n",
       "             (0,\n",
       "              '',\n",
       "              (0, '', (0, '!', None, None), (0, '(', None, None)),\n",
       "              (0, ')', None, None)),\n",
       "             (0, '?', None, None)),\n",
       "            (0, 'q', None, None)),\n",
       "           (0, 'z', None, None)),\n",
       "          (2, \"'\", None, None)),\n",
       "         (2, ',', None, None))),\n",
       "       (7, 'b', None, None)),\n",
       "      (14, '.', None, None))),\n",
       "    (56, 'o', None, None)),\n",
       "   (120,\n",
       "    '',\n",
       "    (58, 'a', None, None),\n",
       "    (62,\n",
       "     '',\n",
       "     (30, 'd', None, None),\n",
       "     (32,\n",
       "      '',\n",
       "      (15, '', (7, 'k', None, None), (8, 'g', None, None)),\n",
       "      (17, 'c', None, None))))),\n",
       "  (278,\n",
       "   '',\n",
       "   (138,\n",
       "    '',\n",
       "    (69,\n",
       "     '',\n",
       "     (34, 'n', None, None),\n",
       "     (35,\n",
       "      '',\n",
       "      (17, 'u', None, None),\n",
       "      (18,\n",
       "       '',\n",
       "       (9, '', (4, '\"', None, None), (5, 'v', None, None)),\n",
       "       (9, 'x', None, None)))),\n",
       "    (69, 'e', None, None)),\n",
       "   (140,\n",
       "    '',\n",
       "    (70, '', (35, 'r', None, None), (35, 's', None, None)),\n",
       "    (70, 't', None, None)))))"
      ]
     },
     "execution_count": 16,
     "metadata": {},
     "output_type": "execute_result"
    }
   ],
   "source": [
    "huffmanTree = buildHuffmanTree(frequency)\n",
    "huffmanTree"
   ]
  },
  {
   "cell_type": "markdown",
   "metadata": {},
   "source": [
    "### 字母與編碼"
   ]
  },
  {
   "cell_type": "code",
   "execution_count": 19,
   "metadata": {},
   "outputs": [
    {
     "data": {
      "text/plain": [
       "{' ': '01',\n",
       " '!': '100010010000000',\n",
       " '\"': '11001100',\n",
       " \"'\": '1000100101',\n",
       " '(': '100010010000001',\n",
       " ')': '10001001000001',\n",
       " ',': '100010011',\n",
       " '.': '100011',\n",
       " '?': '1000100100001',\n",
       " 'a': '1010',\n",
       " 'b': '1000101',\n",
       " 'c': '101111',\n",
       " 'd': '10110',\n",
       " 'e': '1101',\n",
       " 'f': '00001',\n",
       " 'g': '1011101',\n",
       " 'h': '10000',\n",
       " 'i': '0011',\n",
       " 'j': '10001000',\n",
       " 'k': '1011100',\n",
       " 'l': '0001',\n",
       " 'm': '001010',\n",
       " 'n': '11000',\n",
       " 'o': '1001',\n",
       " 'p': '001011',\n",
       " 'q': '100010010001',\n",
       " 'r': '11100',\n",
       " 's': '11101',\n",
       " 't': '1111',\n",
       " 'u': '110010',\n",
       " 'v': '11001101',\n",
       " 'w': '00000',\n",
       " 'x': '1100111',\n",
       " 'y': '00100',\n",
       " 'z': '10001001001'}"
      ]
     },
     "execution_count": 19,
     "metadata": {},
     "output_type": "execute_result"
    }
   ],
   "source": [
    "table = buildHuffmanDict(huffmanTree,'')\n",
    "table"
   ]
  }
 ],
 "metadata": {
  "kernelspec": {
   "display_name": "Python 3",
   "language": "python",
   "name": "python3"
  },
  "language_info": {
   "codemirror_mode": {
    "name": "ipython",
    "version": 3
   },
   "file_extension": ".py",
   "mimetype": "text/x-python",
   "name": "python",
   "nbconvert_exporter": "python",
   "pygments_lexer": "ipython3",
   "version": "3.6.2"
  }
 },
 "nbformat": 4,
 "nbformat_minor": 2
}
